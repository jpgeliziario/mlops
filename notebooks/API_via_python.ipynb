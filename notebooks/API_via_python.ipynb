{
 "cells": [
  {
   "cell_type": "code",
   "execution_count": 1,
   "id": "9080bcb1",
   "metadata": {},
   "outputs": [],
   "source": [
    "import requests"
   ]
  },
  {
   "cell_type": "code",
   "execution_count": 12,
   "id": "74d306ef",
   "metadata": {},
   "outputs": [],
   "source": [
    "url = 'http://127.0.0.1:5000/cotacao/'"
   ]
  },
  {
   "cell_type": "code",
   "execution_count": 13,
   "id": "f75a56ce",
   "metadata": {},
   "outputs": [],
   "source": [
    "dados = {\n",
    "    \"tamanho\" : 120,\n",
    "    \"ano\" : 2001,\n",
    "    \"garagem\" : 2\n",
    "}"
   ]
  },
  {
   "cell_type": "code",
   "execution_count": 16,
   "id": "bd572013",
   "metadata": {},
   "outputs": [],
   "source": [
    "auth = requests.auth.HTTPBasicAuth('joao', 'Jpedro')"
   ]
  },
  {
   "cell_type": "code",
   "execution_count": 17,
   "id": "49a975d9",
   "metadata": {},
   "outputs": [],
   "source": [
    "response = requests.post(url, json=dados, auth=auth)"
   ]
  },
  {
   "cell_type": "code",
   "execution_count": 18,
   "id": "3b997701",
   "metadata": {},
   "outputs": [
    {
     "data": {
      "text/plain": [
       "200"
      ]
     },
     "execution_count": 18,
     "metadata": {},
     "output_type": "execute_result"
    }
   ],
   "source": [
    "response.status_code"
   ]
  },
  {
   "cell_type": "code",
   "execution_count": 19,
   "id": "4041807e",
   "metadata": {},
   "outputs": [
    {
     "data": {
      "text/plain": [
       "'{\\n  \"preco\": 191436.5350383143\\n}\\n'"
      ]
     },
     "execution_count": 19,
     "metadata": {},
     "output_type": "execute_result"
    }
   ],
   "source": [
    "response.text"
   ]
  },
  {
   "cell_type": "code",
   "execution_count": 20,
   "id": "0cf92103",
   "metadata": {},
   "outputs": [
    {
     "data": {
      "text/plain": [
       "{'preco': 191436.5350383143}"
      ]
     },
     "execution_count": 20,
     "metadata": {},
     "output_type": "execute_result"
    }
   ],
   "source": [
    "response.json()"
   ]
  }
 ],
 "metadata": {
  "kernelspec": {
   "display_name": "Python 3 (ipykernel)",
   "language": "python",
   "name": "python3"
  },
  "language_info": {
   "codemirror_mode": {
    "name": "ipython",
    "version": 3
   },
   "file_extension": ".py",
   "mimetype": "text/x-python",
   "name": "python",
   "nbconvert_exporter": "python",
   "pygments_lexer": "ipython3",
   "version": "3.9.12"
  }
 },
 "nbformat": 4,
 "nbformat_minor": 5
}
